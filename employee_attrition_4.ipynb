{
 "cells": [
  {
   "cell_type": "markdown",
   "id": "d9a9e6a6-1470-4d1a-af65-d2a748dcb2cb",
   "metadata": {},
   "source": [
    "## # STEP 1: Install Required Packages"
   ]
  },
  {
   "cell_type": "code",
   "execution_count": 1,
   "id": "02fc0755-67ff-4538-a8f9-f4a6336a1450",
   "metadata": {},
   "outputs": [
    {
     "name": "stdout",
     "output_type": "stream",
     "text": [
      "Requirement already satisfied: pandas in c:\\users\\aswin prasath v\\anaconda3\\lib\\site-packages (2.2.2)\n",
      "Requirement already satisfied: numpy in c:\\users\\aswin prasath v\\anaconda3\\lib\\site-packages (1.26.4)\n",
      "Requirement already satisfied: scikit-learn in c:\\users\\aswin prasath v\\anaconda3\\lib\\site-packages (1.5.1)\n",
      "Requirement already satisfied: imbalanced-learn in c:\\users\\aswin prasath v\\anaconda3\\lib\\site-packages (0.12.3)\n",
      "Requirement already satisfied: joblib in c:\\users\\aswin prasath v\\anaconda3\\lib\\site-packages (1.4.2)\n",
      "Requirement already satisfied: matplotlib in c:\\users\\aswin prasath v\\anaconda3\\lib\\site-packages (3.9.2)\n",
      "Requirement already satisfied: python-dateutil>=2.8.2 in c:\\users\\aswin prasath v\\anaconda3\\lib\\site-packages (from pandas) (2.9.0.post0)\n",
      "Requirement already satisfied: pytz>=2020.1 in c:\\users\\aswin prasath v\\anaconda3\\lib\\site-packages (from pandas) (2024.1)\n",
      "Requirement already satisfied: tzdata>=2022.7 in c:\\users\\aswin prasath v\\anaconda3\\lib\\site-packages (from pandas) (2023.3)\n",
      "Requirement already satisfied: scipy>=1.6.0 in c:\\users\\aswin prasath v\\anaconda3\\lib\\site-packages (from scikit-learn) (1.13.1)\n",
      "Requirement already satisfied: threadpoolctl>=3.1.0 in c:\\users\\aswin prasath v\\anaconda3\\lib\\site-packages (from scikit-learn) (3.5.0)\n",
      "Requirement already satisfied: contourpy>=1.0.1 in c:\\users\\aswin prasath v\\anaconda3\\lib\\site-packages (from matplotlib) (1.2.0)\n",
      "Requirement already satisfied: cycler>=0.10 in c:\\users\\aswin prasath v\\anaconda3\\lib\\site-packages (from matplotlib) (0.11.0)\n",
      "Requirement already satisfied: fonttools>=4.22.0 in c:\\users\\aswin prasath v\\anaconda3\\lib\\site-packages (from matplotlib) (4.51.0)\n",
      "Requirement already satisfied: kiwisolver>=1.3.1 in c:\\users\\aswin prasath v\\anaconda3\\lib\\site-packages (from matplotlib) (1.4.4)\n",
      "Requirement already satisfied: packaging>=20.0 in c:\\users\\aswin prasath v\\anaconda3\\lib\\site-packages (from matplotlib) (24.1)\n",
      "Requirement already satisfied: pillow>=8 in c:\\users\\aswin prasath v\\anaconda3\\lib\\site-packages (from matplotlib) (10.4.0)\n",
      "Requirement already satisfied: pyparsing>=2.3.1 in c:\\users\\aswin prasath v\\anaconda3\\lib\\site-packages (from matplotlib) (3.1.2)\n",
      "Requirement already satisfied: six>=1.5 in c:\\users\\aswin prasath v\\anaconda3\\lib\\site-packages (from python-dateutil>=2.8.2->pandas) (1.16.0)\n",
      "Note: you may need to restart the kernel to use updated packages.\n"
     ]
    }
   ],
   "source": [
    "pip install pandas numpy scikit-learn imbalanced-learn joblib matplotlib"
   ]
  },
  {
   "cell_type": "markdown",
   "id": "946928dd-9f1d-489e-815b-067c3b918373",
   "metadata": {},
   "source": [
    "## # STEP 2: Import Libraries"
   ]
  },
  {
   "cell_type": "code",
   "execution_count": 2,
   "id": "03de8a46-d210-402a-838c-f92efe49e6d7",
   "metadata": {},
   "outputs": [],
   "source": [
    "import pandas as pd\n",
    "import numpy as np\n",
    "from sklearn.model_selection import train_test_split\n",
    "from sklearn.preprocessing import StandardScaler\n",
    "from sklearn.linear_model import LogisticRegression\n",
    "from sklearn.metrics import classification_report, confusion_matrix, roc_auc_score, ConfusionMatrixDisplay\n",
    "from imblearn.over_sampling import SMOTE\n",
    "from sklearn.pipeline import Pipeline\n",
    "import joblib\n",
    "import matplotlib.pyplot as plt\n"
   ]
  },
  {
   "cell_type": "markdown",
   "id": "7e4bc434-4f2f-48b3-bb82-d27d8ad80b89",
   "metadata": {},
   "source": [
    "## # STEP 3: Upload and Load the Data"
   ]
  },
  {
   "cell_type": "code",
   "execution_count": 3,
   "id": "447ce393-79ee-4e85-ac8f-f364ad3f7934",
   "metadata": {},
   "outputs": [],
   "source": [
    "df = pd.read_csv('employee attrition.csv') "
   ]
  },
  {
   "cell_type": "markdown",
   "id": "50e434c4-bf66-4813-9c93-49f84560a9c3",
   "metadata": {},
   "source": [
    "## # ✅ DEBUG: Check columns to verify \"Attrition\" exists"
   ]
  },
  {
   "cell_type": "code",
   "execution_count": 4,
   "id": "7c395f9b-4c64-4a58-930a-b2b08106861f",
   "metadata": {},
   "outputs": [
    {
     "name": "stdout",
     "output_type": "stream",
     "text": [
      "Columns in dataset: ['Age', 'Attrition', 'BusinessTravel', 'DailyRate', 'Department', 'DistanceFromHome', 'Education', 'EducationField', 'EmployeeCount', 'EmployeeNumber', 'EnvironmentSatisfaction', 'Gender', 'HourlyRate', 'JobInvolvement', 'JobLevel', 'JobRole', 'JobSatisfaction', 'MaritalStatus', 'MonthlyIncome', 'MonthlyRate', 'NumCompaniesWorked', 'Over18', 'OverTime', 'PercentSalaryHike', 'PerformanceRating', 'RelationshipSatisfaction', 'StandardHours', 'StockOptionLevel', 'TotalWorkingYears', 'TrainingTimesLastYear', 'WorkLifeBalance', 'YearsAtCompany', 'YearsInCurrentRole', 'YearsSinceLastPromotion', 'YearsWithCurrManager']\n"
     ]
    }
   ],
   "source": [
    "print(\"Columns in dataset:\", df.columns.tolist())"
   ]
  },
  {
   "cell_type": "markdown",
   "id": "a74bfc8b-308d-4701-a0d5-87e5f3b5f701",
   "metadata": {},
   "source": [
    "## # STEP 4: Save the target column separately"
   ]
  },
  {
   "cell_type": "code",
   "execution_count": 5,
   "id": "93f36336-00ba-4bb1-a9b4-7fa6234e088c",
   "metadata": {},
   "outputs": [],
   "source": [
    "target = df['Attrition']"
   ]
  },
  {
   "cell_type": "markdown",
   "id": "51c82d6a-b743-4811-8d9d-1bd9003f96cf",
   "metadata": {},
   "source": [
    "## # STEP 5: Drop target from the features"
   ]
  },
  {
   "cell_type": "code",
   "execution_count": 6,
   "id": "a3d44f79-0c8e-44b8-8b5f-3ad7113c8885",
   "metadata": {},
   "outputs": [],
   "source": [
    "df_features = df.drop('Attrition', axis=1)"
   ]
  },
  {
   "cell_type": "markdown",
   "id": "06cb1b43-372c-4090-ab0f-04ed56ac1bd0",
   "metadata": {},
   "source": [
    "## # STEP 6: One-Hot Encode Categorical Variables"
   ]
  },
  {
   "cell_type": "code",
   "execution_count": 7,
   "id": "075e585b-f6be-4825-8d7e-c245287a3f64",
   "metadata": {},
   "outputs": [],
   "source": [
    "df_encoded = pd.get_dummies(df_features, drop_first=True)"
   ]
  },
  {
   "cell_type": "markdown",
   "id": "b3c6706f-0bb5-46d5-ae1f-4619e7d45b58",
   "metadata": {},
   "source": [
    "## # STEP 7: Set X (features) and y (target)"
   ]
  },
  {
   "cell_type": "code",
   "execution_count": 8,
   "id": "3be76932-ac98-4f03-a9c7-d37e4f61cc39",
   "metadata": {},
   "outputs": [],
   "source": [
    "X = df_encoded\n",
    "y = target"
   ]
  },
  {
   "cell_type": "markdown",
   "id": "d640662c-4f00-4dca-b47b-897fe401c90d",
   "metadata": {},
   "source": [
    "## # STEP 8: Train-Test Split (Stratified)"
   ]
  },
  {
   "cell_type": "code",
   "execution_count": 9,
   "id": "bb252287-b346-404b-89c3-6c90f7d03a5c",
   "metadata": {},
   "outputs": [],
   "source": [
    "X_train, X_test, y_train, y_test = train_test_split(\n",
    "    X, y, test_size=0.2, stratify=y, random_state=42)"
   ]
  },
  {
   "cell_type": "markdown",
   "id": "1e5dfafa-a35c-4041-98c5-338992e443db",
   "metadata": {},
   "source": [
    "## # STEP 9: Apply SMOTE on Training Data"
   ]
  },
  {
   "cell_type": "code",
   "execution_count": 10,
   "id": "343b6f44-6044-4284-9841-8d020ecd383e",
   "metadata": {},
   "outputs": [],
   "source": [
    "smote = SMOTE(random_state=42)\n",
    "X_train_resampled, y_train_resampled = smote.fit_resample(X_train, y_train)"
   ]
  },
  {
   "cell_type": "markdown",
   "id": "6fb0f8a2-df1a-4bec-bf74-d720856d4786",
   "metadata": {},
   "source": [
    "## # STEP 10: Create Pipeline (Scaling + Logistic Regression)"
   ]
  },
  {
   "cell_type": "code",
   "execution_count": 11,
   "id": "9acf9d41-b708-451f-83a6-03803d5ec12a",
   "metadata": {},
   "outputs": [],
   "source": [
    "pipeline = Pipeline([\n",
    "    ('scaler', StandardScaler()),\n",
    "    ('logreg', LogisticRegression(max_iter=1000, random_state=42))\n",
    "])"
   ]
  },
  {
   "cell_type": "markdown",
   "id": "44a099bd-71d3-47e0-b853-1444490278e1",
   "metadata": {},
   "source": [
    "## # STEP 11: Train the Model"
   ]
  },
  {
   "cell_type": "code",
   "execution_count": 12,
   "id": "733c9c24-5e46-4475-8091-db243e254856",
   "metadata": {},
   "outputs": [
    {
     "data": {
      "text/html": [
       "<style>#sk-container-id-1 {\n",
       "  /* Definition of color scheme common for light and dark mode */\n",
       "  --sklearn-color-text: black;\n",
       "  --sklearn-color-line: gray;\n",
       "  /* Definition of color scheme for unfitted estimators */\n",
       "  --sklearn-color-unfitted-level-0: #fff5e6;\n",
       "  --sklearn-color-unfitted-level-1: #f6e4d2;\n",
       "  --sklearn-color-unfitted-level-2: #ffe0b3;\n",
       "  --sklearn-color-unfitted-level-3: chocolate;\n",
       "  /* Definition of color scheme for fitted estimators */\n",
       "  --sklearn-color-fitted-level-0: #f0f8ff;\n",
       "  --sklearn-color-fitted-level-1: #d4ebff;\n",
       "  --sklearn-color-fitted-level-2: #b3dbfd;\n",
       "  --sklearn-color-fitted-level-3: cornflowerblue;\n",
       "\n",
       "  /* Specific color for light theme */\n",
       "  --sklearn-color-text-on-default-background: var(--sg-text-color, var(--theme-code-foreground, var(--jp-content-font-color1, black)));\n",
       "  --sklearn-color-background: var(--sg-background-color, var(--theme-background, var(--jp-layout-color0, white)));\n",
       "  --sklearn-color-border-box: var(--sg-text-color, var(--theme-code-foreground, var(--jp-content-font-color1, black)));\n",
       "  --sklearn-color-icon: #696969;\n",
       "\n",
       "  @media (prefers-color-scheme: dark) {\n",
       "    /* Redefinition of color scheme for dark theme */\n",
       "    --sklearn-color-text-on-default-background: var(--sg-text-color, var(--theme-code-foreground, var(--jp-content-font-color1, white)));\n",
       "    --sklearn-color-background: var(--sg-background-color, var(--theme-background, var(--jp-layout-color0, #111)));\n",
       "    --sklearn-color-border-box: var(--sg-text-color, var(--theme-code-foreground, var(--jp-content-font-color1, white)));\n",
       "    --sklearn-color-icon: #878787;\n",
       "  }\n",
       "}\n",
       "\n",
       "#sk-container-id-1 {\n",
       "  color: var(--sklearn-color-text);\n",
       "}\n",
       "\n",
       "#sk-container-id-1 pre {\n",
       "  padding: 0;\n",
       "}\n",
       "\n",
       "#sk-container-id-1 input.sk-hidden--visually {\n",
       "  border: 0;\n",
       "  clip: rect(1px 1px 1px 1px);\n",
       "  clip: rect(1px, 1px, 1px, 1px);\n",
       "  height: 1px;\n",
       "  margin: -1px;\n",
       "  overflow: hidden;\n",
       "  padding: 0;\n",
       "  position: absolute;\n",
       "  width: 1px;\n",
       "}\n",
       "\n",
       "#sk-container-id-1 div.sk-dashed-wrapped {\n",
       "  border: 1px dashed var(--sklearn-color-line);\n",
       "  margin: 0 0.4em 0.5em 0.4em;\n",
       "  box-sizing: border-box;\n",
       "  padding-bottom: 0.4em;\n",
       "  background-color: var(--sklearn-color-background);\n",
       "}\n",
       "\n",
       "#sk-container-id-1 div.sk-container {\n",
       "  /* jupyter's `normalize.less` sets `[hidden] { display: none; }`\n",
       "     but bootstrap.min.css set `[hidden] { display: none !important; }`\n",
       "     so we also need the `!important` here to be able to override the\n",
       "     default hidden behavior on the sphinx rendered scikit-learn.org.\n",
       "     See: https://github.com/scikit-learn/scikit-learn/issues/21755 */\n",
       "  display: inline-block !important;\n",
       "  position: relative;\n",
       "}\n",
       "\n",
       "#sk-container-id-1 div.sk-text-repr-fallback {\n",
       "  display: none;\n",
       "}\n",
       "\n",
       "div.sk-parallel-item,\n",
       "div.sk-serial,\n",
       "div.sk-item {\n",
       "  /* draw centered vertical line to link estimators */\n",
       "  background-image: linear-gradient(var(--sklearn-color-text-on-default-background), var(--sklearn-color-text-on-default-background));\n",
       "  background-size: 2px 100%;\n",
       "  background-repeat: no-repeat;\n",
       "  background-position: center center;\n",
       "}\n",
       "\n",
       "/* Parallel-specific style estimator block */\n",
       "\n",
       "#sk-container-id-1 div.sk-parallel-item::after {\n",
       "  content: \"\";\n",
       "  width: 100%;\n",
       "  border-bottom: 2px solid var(--sklearn-color-text-on-default-background);\n",
       "  flex-grow: 1;\n",
       "}\n",
       "\n",
       "#sk-container-id-1 div.sk-parallel {\n",
       "  display: flex;\n",
       "  align-items: stretch;\n",
       "  justify-content: center;\n",
       "  background-color: var(--sklearn-color-background);\n",
       "  position: relative;\n",
       "}\n",
       "\n",
       "#sk-container-id-1 div.sk-parallel-item {\n",
       "  display: flex;\n",
       "  flex-direction: column;\n",
       "}\n",
       "\n",
       "#sk-container-id-1 div.sk-parallel-item:first-child::after {\n",
       "  align-self: flex-end;\n",
       "  width: 50%;\n",
       "}\n",
       "\n",
       "#sk-container-id-1 div.sk-parallel-item:last-child::after {\n",
       "  align-self: flex-start;\n",
       "  width: 50%;\n",
       "}\n",
       "\n",
       "#sk-container-id-1 div.sk-parallel-item:only-child::after {\n",
       "  width: 0;\n",
       "}\n",
       "\n",
       "/* Serial-specific style estimator block */\n",
       "\n",
       "#sk-container-id-1 div.sk-serial {\n",
       "  display: flex;\n",
       "  flex-direction: column;\n",
       "  align-items: center;\n",
       "  background-color: var(--sklearn-color-background);\n",
       "  padding-right: 1em;\n",
       "  padding-left: 1em;\n",
       "}\n",
       "\n",
       "\n",
       "/* Toggleable style: style used for estimator/Pipeline/ColumnTransformer box that is\n",
       "clickable and can be expanded/collapsed.\n",
       "- Pipeline and ColumnTransformer use this feature and define the default style\n",
       "- Estimators will overwrite some part of the style using the `sk-estimator` class\n",
       "*/\n",
       "\n",
       "/* Pipeline and ColumnTransformer style (default) */\n",
       "\n",
       "#sk-container-id-1 div.sk-toggleable {\n",
       "  /* Default theme specific background. It is overwritten whether we have a\n",
       "  specific estimator or a Pipeline/ColumnTransformer */\n",
       "  background-color: var(--sklearn-color-background);\n",
       "}\n",
       "\n",
       "/* Toggleable label */\n",
       "#sk-container-id-1 label.sk-toggleable__label {\n",
       "  cursor: pointer;\n",
       "  display: block;\n",
       "  width: 100%;\n",
       "  margin-bottom: 0;\n",
       "  padding: 0.5em;\n",
       "  box-sizing: border-box;\n",
       "  text-align: center;\n",
       "}\n",
       "\n",
       "#sk-container-id-1 label.sk-toggleable__label-arrow:before {\n",
       "  /* Arrow on the left of the label */\n",
       "  content: \"▸\";\n",
       "  float: left;\n",
       "  margin-right: 0.25em;\n",
       "  color: var(--sklearn-color-icon);\n",
       "}\n",
       "\n",
       "#sk-container-id-1 label.sk-toggleable__label-arrow:hover:before {\n",
       "  color: var(--sklearn-color-text);\n",
       "}\n",
       "\n",
       "/* Toggleable content - dropdown */\n",
       "\n",
       "#sk-container-id-1 div.sk-toggleable__content {\n",
       "  max-height: 0;\n",
       "  max-width: 0;\n",
       "  overflow: hidden;\n",
       "  text-align: left;\n",
       "  /* unfitted */\n",
       "  background-color: var(--sklearn-color-unfitted-level-0);\n",
       "}\n",
       "\n",
       "#sk-container-id-1 div.sk-toggleable__content.fitted {\n",
       "  /* fitted */\n",
       "  background-color: var(--sklearn-color-fitted-level-0);\n",
       "}\n",
       "\n",
       "#sk-container-id-1 div.sk-toggleable__content pre {\n",
       "  margin: 0.2em;\n",
       "  border-radius: 0.25em;\n",
       "  color: var(--sklearn-color-text);\n",
       "  /* unfitted */\n",
       "  background-color: var(--sklearn-color-unfitted-level-0);\n",
       "}\n",
       "\n",
       "#sk-container-id-1 div.sk-toggleable__content.fitted pre {\n",
       "  /* unfitted */\n",
       "  background-color: var(--sklearn-color-fitted-level-0);\n",
       "}\n",
       "\n",
       "#sk-container-id-1 input.sk-toggleable__control:checked~div.sk-toggleable__content {\n",
       "  /* Expand drop-down */\n",
       "  max-height: 200px;\n",
       "  max-width: 100%;\n",
       "  overflow: auto;\n",
       "}\n",
       "\n",
       "#sk-container-id-1 input.sk-toggleable__control:checked~label.sk-toggleable__label-arrow:before {\n",
       "  content: \"▾\";\n",
       "}\n",
       "\n",
       "/* Pipeline/ColumnTransformer-specific style */\n",
       "\n",
       "#sk-container-id-1 div.sk-label input.sk-toggleable__control:checked~label.sk-toggleable__label {\n",
       "  color: var(--sklearn-color-text);\n",
       "  background-color: var(--sklearn-color-unfitted-level-2);\n",
       "}\n",
       "\n",
       "#sk-container-id-1 div.sk-label.fitted input.sk-toggleable__control:checked~label.sk-toggleable__label {\n",
       "  background-color: var(--sklearn-color-fitted-level-2);\n",
       "}\n",
       "\n",
       "/* Estimator-specific style */\n",
       "\n",
       "/* Colorize estimator box */\n",
       "#sk-container-id-1 div.sk-estimator input.sk-toggleable__control:checked~label.sk-toggleable__label {\n",
       "  /* unfitted */\n",
       "  background-color: var(--sklearn-color-unfitted-level-2);\n",
       "}\n",
       "\n",
       "#sk-container-id-1 div.sk-estimator.fitted input.sk-toggleable__control:checked~label.sk-toggleable__label {\n",
       "  /* fitted */\n",
       "  background-color: var(--sklearn-color-fitted-level-2);\n",
       "}\n",
       "\n",
       "#sk-container-id-1 div.sk-label label.sk-toggleable__label,\n",
       "#sk-container-id-1 div.sk-label label {\n",
       "  /* The background is the default theme color */\n",
       "  color: var(--sklearn-color-text-on-default-background);\n",
       "}\n",
       "\n",
       "/* On hover, darken the color of the background */\n",
       "#sk-container-id-1 div.sk-label:hover label.sk-toggleable__label {\n",
       "  color: var(--sklearn-color-text);\n",
       "  background-color: var(--sklearn-color-unfitted-level-2);\n",
       "}\n",
       "\n",
       "/* Label box, darken color on hover, fitted */\n",
       "#sk-container-id-1 div.sk-label.fitted:hover label.sk-toggleable__label.fitted {\n",
       "  color: var(--sklearn-color-text);\n",
       "  background-color: var(--sklearn-color-fitted-level-2);\n",
       "}\n",
       "\n",
       "/* Estimator label */\n",
       "\n",
       "#sk-container-id-1 div.sk-label label {\n",
       "  font-family: monospace;\n",
       "  font-weight: bold;\n",
       "  display: inline-block;\n",
       "  line-height: 1.2em;\n",
       "}\n",
       "\n",
       "#sk-container-id-1 div.sk-label-container {\n",
       "  text-align: center;\n",
       "}\n",
       "\n",
       "/* Estimator-specific */\n",
       "#sk-container-id-1 div.sk-estimator {\n",
       "  font-family: monospace;\n",
       "  border: 1px dotted var(--sklearn-color-border-box);\n",
       "  border-radius: 0.25em;\n",
       "  box-sizing: border-box;\n",
       "  margin-bottom: 0.5em;\n",
       "  /* unfitted */\n",
       "  background-color: var(--sklearn-color-unfitted-level-0);\n",
       "}\n",
       "\n",
       "#sk-container-id-1 div.sk-estimator.fitted {\n",
       "  /* fitted */\n",
       "  background-color: var(--sklearn-color-fitted-level-0);\n",
       "}\n",
       "\n",
       "/* on hover */\n",
       "#sk-container-id-1 div.sk-estimator:hover {\n",
       "  /* unfitted */\n",
       "  background-color: var(--sklearn-color-unfitted-level-2);\n",
       "}\n",
       "\n",
       "#sk-container-id-1 div.sk-estimator.fitted:hover {\n",
       "  /* fitted */\n",
       "  background-color: var(--sklearn-color-fitted-level-2);\n",
       "}\n",
       "\n",
       "/* Specification for estimator info (e.g. \"i\" and \"?\") */\n",
       "\n",
       "/* Common style for \"i\" and \"?\" */\n",
       "\n",
       ".sk-estimator-doc-link,\n",
       "a:link.sk-estimator-doc-link,\n",
       "a:visited.sk-estimator-doc-link {\n",
       "  float: right;\n",
       "  font-size: smaller;\n",
       "  line-height: 1em;\n",
       "  font-family: monospace;\n",
       "  background-color: var(--sklearn-color-background);\n",
       "  border-radius: 1em;\n",
       "  height: 1em;\n",
       "  width: 1em;\n",
       "  text-decoration: none !important;\n",
       "  margin-left: 1ex;\n",
       "  /* unfitted */\n",
       "  border: var(--sklearn-color-unfitted-level-1) 1pt solid;\n",
       "  color: var(--sklearn-color-unfitted-level-1);\n",
       "}\n",
       "\n",
       ".sk-estimator-doc-link.fitted,\n",
       "a:link.sk-estimator-doc-link.fitted,\n",
       "a:visited.sk-estimator-doc-link.fitted {\n",
       "  /* fitted */\n",
       "  border: var(--sklearn-color-fitted-level-1) 1pt solid;\n",
       "  color: var(--sklearn-color-fitted-level-1);\n",
       "}\n",
       "\n",
       "/* On hover */\n",
       "div.sk-estimator:hover .sk-estimator-doc-link:hover,\n",
       ".sk-estimator-doc-link:hover,\n",
       "div.sk-label-container:hover .sk-estimator-doc-link:hover,\n",
       ".sk-estimator-doc-link:hover {\n",
       "  /* unfitted */\n",
       "  background-color: var(--sklearn-color-unfitted-level-3);\n",
       "  color: var(--sklearn-color-background);\n",
       "  text-decoration: none;\n",
       "}\n",
       "\n",
       "div.sk-estimator.fitted:hover .sk-estimator-doc-link.fitted:hover,\n",
       ".sk-estimator-doc-link.fitted:hover,\n",
       "div.sk-label-container:hover .sk-estimator-doc-link.fitted:hover,\n",
       ".sk-estimator-doc-link.fitted:hover {\n",
       "  /* fitted */\n",
       "  background-color: var(--sklearn-color-fitted-level-3);\n",
       "  color: var(--sklearn-color-background);\n",
       "  text-decoration: none;\n",
       "}\n",
       "\n",
       "/* Span, style for the box shown on hovering the info icon */\n",
       ".sk-estimator-doc-link span {\n",
       "  display: none;\n",
       "  z-index: 9999;\n",
       "  position: relative;\n",
       "  font-weight: normal;\n",
       "  right: .2ex;\n",
       "  padding: .5ex;\n",
       "  margin: .5ex;\n",
       "  width: min-content;\n",
       "  min-width: 20ex;\n",
       "  max-width: 50ex;\n",
       "  color: var(--sklearn-color-text);\n",
       "  box-shadow: 2pt 2pt 4pt #999;\n",
       "  /* unfitted */\n",
       "  background: var(--sklearn-color-unfitted-level-0);\n",
       "  border: .5pt solid var(--sklearn-color-unfitted-level-3);\n",
       "}\n",
       "\n",
       ".sk-estimator-doc-link.fitted span {\n",
       "  /* fitted */\n",
       "  background: var(--sklearn-color-fitted-level-0);\n",
       "  border: var(--sklearn-color-fitted-level-3);\n",
       "}\n",
       "\n",
       ".sk-estimator-doc-link:hover span {\n",
       "  display: block;\n",
       "}\n",
       "\n",
       "/* \"?\"-specific style due to the `<a>` HTML tag */\n",
       "\n",
       "#sk-container-id-1 a.estimator_doc_link {\n",
       "  float: right;\n",
       "  font-size: 1rem;\n",
       "  line-height: 1em;\n",
       "  font-family: monospace;\n",
       "  background-color: var(--sklearn-color-background);\n",
       "  border-radius: 1rem;\n",
       "  height: 1rem;\n",
       "  width: 1rem;\n",
       "  text-decoration: none;\n",
       "  /* unfitted */\n",
       "  color: var(--sklearn-color-unfitted-level-1);\n",
       "  border: var(--sklearn-color-unfitted-level-1) 1pt solid;\n",
       "}\n",
       "\n",
       "#sk-container-id-1 a.estimator_doc_link.fitted {\n",
       "  /* fitted */\n",
       "  border: var(--sklearn-color-fitted-level-1) 1pt solid;\n",
       "  color: var(--sklearn-color-fitted-level-1);\n",
       "}\n",
       "\n",
       "/* On hover */\n",
       "#sk-container-id-1 a.estimator_doc_link:hover {\n",
       "  /* unfitted */\n",
       "  background-color: var(--sklearn-color-unfitted-level-3);\n",
       "  color: var(--sklearn-color-background);\n",
       "  text-decoration: none;\n",
       "}\n",
       "\n",
       "#sk-container-id-1 a.estimator_doc_link.fitted:hover {\n",
       "  /* fitted */\n",
       "  background-color: var(--sklearn-color-fitted-level-3);\n",
       "}\n",
       "</style><div id=\"sk-container-id-1\" class=\"sk-top-container\"><div class=\"sk-text-repr-fallback\"><pre>Pipeline(steps=[(&#x27;scaler&#x27;, StandardScaler()),\n",
       "                (&#x27;logreg&#x27;, LogisticRegression(max_iter=1000, random_state=42))])</pre><b>In a Jupyter environment, please rerun this cell to show the HTML representation or trust the notebook. <br />On GitHub, the HTML representation is unable to render, please try loading this page with nbviewer.org.</b></div><div class=\"sk-container\" hidden><div class=\"sk-item sk-dashed-wrapped\"><div class=\"sk-label-container\"><div class=\"sk-label fitted sk-toggleable\"><input class=\"sk-toggleable__control sk-hidden--visually\" id=\"sk-estimator-id-1\" type=\"checkbox\" ><label for=\"sk-estimator-id-1\" class=\"sk-toggleable__label fitted sk-toggleable__label-arrow fitted\">&nbsp;&nbsp;Pipeline<a class=\"sk-estimator-doc-link fitted\" rel=\"noreferrer\" target=\"_blank\" href=\"https://scikit-learn.org/1.5/modules/generated/sklearn.pipeline.Pipeline.html\">?<span>Documentation for Pipeline</span></a><span class=\"sk-estimator-doc-link fitted\">i<span>Fitted</span></span></label><div class=\"sk-toggleable__content fitted\"><pre>Pipeline(steps=[(&#x27;scaler&#x27;, StandardScaler()),\n",
       "                (&#x27;logreg&#x27;, LogisticRegression(max_iter=1000, random_state=42))])</pre></div> </div></div><div class=\"sk-serial\"><div class=\"sk-item\"><div class=\"sk-estimator fitted sk-toggleable\"><input class=\"sk-toggleable__control sk-hidden--visually\" id=\"sk-estimator-id-2\" type=\"checkbox\" ><label for=\"sk-estimator-id-2\" class=\"sk-toggleable__label fitted sk-toggleable__label-arrow fitted\">&nbsp;StandardScaler<a class=\"sk-estimator-doc-link fitted\" rel=\"noreferrer\" target=\"_blank\" href=\"https://scikit-learn.org/1.5/modules/generated/sklearn.preprocessing.StandardScaler.html\">?<span>Documentation for StandardScaler</span></a></label><div class=\"sk-toggleable__content fitted\"><pre>StandardScaler()</pre></div> </div></div><div class=\"sk-item\"><div class=\"sk-estimator fitted sk-toggleable\"><input class=\"sk-toggleable__control sk-hidden--visually\" id=\"sk-estimator-id-3\" type=\"checkbox\" ><label for=\"sk-estimator-id-3\" class=\"sk-toggleable__label fitted sk-toggleable__label-arrow fitted\">&nbsp;LogisticRegression<a class=\"sk-estimator-doc-link fitted\" rel=\"noreferrer\" target=\"_blank\" href=\"https://scikit-learn.org/1.5/modules/generated/sklearn.linear_model.LogisticRegression.html\">?<span>Documentation for LogisticRegression</span></a></label><div class=\"sk-toggleable__content fitted\"><pre>LogisticRegression(max_iter=1000, random_state=42)</pre></div> </div></div></div></div></div></div>"
      ],
      "text/plain": [
       "Pipeline(steps=[('scaler', StandardScaler()),\n",
       "                ('logreg', LogisticRegression(max_iter=1000, random_state=42))])"
      ]
     },
     "execution_count": 12,
     "metadata": {},
     "output_type": "execute_result"
    }
   ],
   "source": [
    "pipeline.fit(X_train_resampled, y_train_resampled)"
   ]
  },
  {
   "cell_type": "markdown",
   "id": "59e7e5aa-2c47-4657-bfa4-e95f5fe8578a",
   "metadata": {},
   "source": [
    "## # STEP 12: Evaluate on Test Data"
   ]
  },
  {
   "cell_type": "code",
   "execution_count": 13,
   "id": "e6d2332e-c719-4001-b84f-9406eba5fabc",
   "metadata": {},
   "outputs": [],
   "source": [
    "y_pred = pipeline.predict(X_test)\n",
    "y_prob = pipeline.predict_proba(X_test)[:, 1]"
   ]
  },
  {
   "cell_type": "code",
   "execution_count": 14,
   "id": "d0a29865-396d-4adb-a2e3-9068986d35ac",
   "metadata": {},
   "outputs": [
    {
     "name": "stdout",
     "output_type": "stream",
     "text": [
      "\n",
      "✅ Confusion Matrix:\n",
      "[[228  19]\n",
      " [ 26  21]]\n"
     ]
    }
   ],
   "source": [
    "print(\"\\n✅ Confusion Matrix:\")\n",
    "print(confusion_matrix(y_test, y_pred))"
   ]
  },
  {
   "cell_type": "code",
   "execution_count": 15,
   "id": "4324f3bc-3a1b-45ff-bdae-3ad398115d68",
   "metadata": {},
   "outputs": [
    {
     "name": "stdout",
     "output_type": "stream",
     "text": [
      "\n",
      "✅ Classification Report:\n",
      "              precision    recall  f1-score   support\n",
      "\n",
      "          No       0.90      0.92      0.91       247\n",
      "         Yes       0.53      0.45      0.48        47\n",
      "\n",
      "    accuracy                           0.85       294\n",
      "   macro avg       0.71      0.68      0.70       294\n",
      "weighted avg       0.84      0.85      0.84       294\n",
      "\n"
     ]
    }
   ],
   "source": [
    "print(\"\\n✅ Classification Report:\")\n",
    "print(classification_report(y_test, y_pred))"
   ]
  },
  {
   "cell_type": "code",
   "execution_count": 16,
   "id": "13d6c0e6-587a-4400-8730-8e19bde27087",
   "metadata": {},
   "outputs": [
    {
     "name": "stdout",
     "output_type": "stream",
     "text": [
      "✅ AUC-ROC Score: 0.7197002325781722\n"
     ]
    }
   ],
   "source": [
    "print(\"✅ AUC-ROC Score:\", roc_auc_score(y_test, y_prob))"
   ]
  },
  {
   "cell_type": "markdown",
   "id": "d6448b93-cc05-48f8-9dd7-6ecd7ede1b9a",
   "metadata": {},
   "source": [
    "## # STEP 13: Plot Confusion Matrix"
   ]
  },
  {
   "cell_type": "code",
   "execution_count": 17,
   "id": "d8d19035-ca05-44a5-bb36-e46092b1cc14",
   "metadata": {},
   "outputs": [
    {
     "data": {
      "image/png": "[encoded data removed]",
      "text/plain": [
       "<Figure size 640x480 with 2 Axes>"
      ]
     },
     "metadata": {},
     "output_type": "display_data"
    }
   ],
   "source": [
    "disp = ConfusionMatrixDisplay(confusion_matrix=confusion_matrix(y_test, y_pred), display_labels=pipeline.classes_)\n",
    "disp.plot(cmap='Blues')\n",
    "plt.title(\"Confusion Matrix\")\n",
    "plt.show()"
   ]
  },
  {
   "cell_type": "markdown",
   "id": "d2731e44-8c04-489a-85cf-337685ca2ae0",
   "metadata": {},
   "source": [
    "## # STEP 14: Save the Model"
   ]
  },
  {
   "cell_type": "code",
   "execution_count": 18,
   "id": "e0901116-0db1-4236-9e33-d6013d2e7f51",
   "metadata": {},
   "outputs": [
    {
     "name": "stdout",
     "output_type": "stream",
     "text": [
      "✅ Model saved as 'employee_attrition_model.pkl'\n"
     ]
    }
   ],
   "source": [
    "joblib.dump(pipeline, 'employee_attrition_model.pkl')\n",
    "print(\"✅ Model saved as 'employee_attrition_model.pkl'\")"
   ]
  },
  {
   "cell_type": "code",
   "execution_count": null,
   "id": "5cb0b4ce-ae46-4ac6-a2f3-4e6d544d5f34",
   "metadata": {},
   "outputs": [],
   "source": []
  },
  {
   "cell_type": "markdown",
   "id": "6e539645-e5ae-4500-8ec4-53bcc8e2d2e0",
   "metadata": {},
   "source": [
    "## # STREAMLIT CODE : "
   ]
  },
  {
   "cell_type": "code",
   "execution_count": 19,
   "id": "cf20be99-0be8-48b1-8c24-9d75ae5323b3",
   "metadata": {},
   "outputs": [
    {
     "name": "stderr",
     "output_type": "stream",
     "text": [
      "2025-05-15 06:47:32.117 \n",
      "  \u001b[33m\u001b[1mWarning:\u001b[0m to view this Streamlit app on a browser, run it with the following\n",
      "  command:\n",
      "\n",
      "    streamlit run C:\\Users\\Aswin prasath v\\anaconda3\\Lib\\site-packages\\ipykernel_launcher.py [ARGUMENTS]\n",
      "2025-05-15 06:47:32.125 Session state does not function when running a script without `streamlit run`\n"
     ]
    },
    {
     "data": {
      "text/plain": [
       "DeltaGenerator()"
      ]
     },
     "execution_count": 19,
     "metadata": {},
     "output_type": "execute_result"
    }
   ],
   "source": [
    "import streamlit as st\n",
    "import pandas as pd\n",
    "import joblib\n",
    "import matplotlib.pyplot as plt\n",
    "\n",
    "# Set page config MUST be the very first Streamlit command\n",
    "st.set_page_config(page_title=\"Employee Attrition Prediction - Enhanced\", layout=\"wide\")\n",
    "\n",
    "# --- Your details ---\n",
    "APP_TITLE = \"Employee Attrition Prediction - Enhanced\"\n",
    "MODEL_PATH = 'employee_attrition_model.pkl'  # Update if needed\n",
    "AUTHOR = \"Aswin Prasath V\"  # Your name\n",
    "\n",
    "# --- Load model ---\n",
    "@st.cache_resource  # cache model loading for better performance\n",
    "def load_model(path):\n",
    "    return joblib.load(path)\n",
    "\n",
    "model = load_model(MODEL_PATH)\n",
    "\n",
    "st.title(APP_TITLE)\n",
    "st.write(f\"Developed by: **{AUTHOR}**\")\n",
    "st.write(\"\"\"\n",
    "Upload a CSV file with employee data (same features as training except 'Attrition').\n",
    "Or try single employee prediction below.\n",
    "\"\"\")\n",
    "\n",
    "# Function to convert model predictions to int\n",
    "def convert_label(p):\n",
    "    if p == 'Yes':\n",
    "        return 1\n",
    "    elif p == 'No':\n",
    "        return 0\n",
    "    else:\n",
    "        try:\n",
    "            return int(p)\n",
    "        except ValueError:\n",
    "            return 0\n",
    "\n",
    "# --- Sidebar: Single employee input ---\n",
    "st.sidebar.header(\"Single Employee Attrition Prediction\")\n",
    "\n",
    "def single_employee_input():\n",
    "    # Adjust input widgets as per your dataset's features\n",
    "    BusinessTravel = st.sidebar.selectbox(\"Business Travel\", [\"Travel_Rarely\", \"Travel_Frequently\", \"Non-Travel\"])\n",
    "    Department = st.sidebar.selectbox(\"Department\", [\"Sales\", \"Research & Development\", \"Human Resources\"])\n",
    "    EducationField = st.sidebar.selectbox(\"Education Field\", [\"Life Sciences\", \"Medical\", \"Marketing\", \"Technical Degree\", \"Other\"])\n",
    "    Gender = st.sidebar.selectbox(\"Gender\", [\"Male\", \"Female\"])\n",
    "    JobRole = st.sidebar.selectbox(\"Job Role\", [\"Sales Executive\", \"Research Scientist\", \"Laboratory Technician\", \"Manufacturing Director\", \"Healthcare Representative\", \"Manager\", \"Sales Representative\", \"Research Director\", \"Human Resources\"])\n",
    "    MaritalStatus = st.sidebar.selectbox(\"Marital Status\", [\"Single\", \"Married\", \"Divorced\"])\n",
    "    OverTime = st.sidebar.selectbox(\"OverTime\", [\"Yes\", \"No\"])\n",
    "    \n",
    "    # Numeric inputs example - update with your actual numeric features\n",
    "    Age = st.sidebar.number_input(\"Age\", min_value=18, max_value=65, value=30)\n",
    "    MonthlyIncome = st.sidebar.number_input(\"Monthly Income\", min_value=1000, max_value=20000, value=5000)\n",
    "    \n",
    "    # Build dict for this single record\n",
    "    emp_data = {\n",
    "        'Age': Age,\n",
    "        'MonthlyIncome': MonthlyIncome,\n",
    "        'BusinessTravel': BusinessTravel,\n",
    "        'Department': Department,\n",
    "        'EducationField': EducationField,\n",
    "        'Gender': Gender,\n",
    "        'JobRole': JobRole,\n",
    "        'MaritalStatus': MaritalStatus,\n",
    "        'OverTime': OverTime\n",
    "    }\n",
    "    return pd.DataFrame([emp_data])\n",
    "\n",
    "# Main app: choose mode\n",
    "mode = st.radio(\"Select mode\", [\"Batch CSV Upload\", \"Single Employee Prediction\"])\n",
    "\n",
    "if mode == \"Single Employee Prediction\":\n",
    "    st.subheader(\"Predict Attrition for Single Employee\")\n",
    "    single_emp_df = single_employee_input()\n",
    "    st.write(\"Employee Input Data:\")\n",
    "    st.dataframe(single_emp_df)\n",
    "    \n",
    "    # Preprocess single employee input same as batch (one-hot, missing cols)\n",
    "    categorical_cols = ['BusinessTravel', 'Department', 'EducationField', 'Gender', 'JobRole', 'MaritalStatus', 'OverTime']\n",
    "    single_encoded = pd.get_dummies(single_emp_df, columns=categorical_cols, drop_first=True)\n",
    "\n",
    "    if hasattr(model.named_steps['scaler'], 'feature_names_in_'):\n",
    "        expected_cols = model.named_steps['scaler'].feature_names_in_\n",
    "    else:\n",
    "        expected_cols = model.feature_names_in_\n",
    "\n",
    "    for col in expected_cols:\n",
    "        if col not in single_encoded.columns:\n",
    "            single_encoded[col] = 0\n",
    "    single_encoded = single_encoded[expected_cols]\n",
    "\n",
    "    # Predict single employee\n",
    "    pred_prob = model.predict_proba(single_encoded)[:, 1][0]\n",
    "    pred_label = model.predict(single_encoded)[0]\n",
    "    pred_label_int = convert_label(pred_label)\n",
    "\n",
    "    st.write(f\"Predicted Attrition Probability: **{pred_prob:.2f}**\")\n",
    "    st.write(f\"Predicted Attrition: **{'Yes' if pred_label_int == 1 else 'No'}**\")\n",
    "\n",
    "else:\n",
    "    # Batch CSV upload mode\n",
    "    st.subheader(\"Batch Prediction: Upload CSV file\")\n",
    "    uploaded_file = st.file_uploader(\"Upload your employee data CSV\", type=[\"csv\"])\n",
    "\n",
    "    if uploaded_file is not None:\n",
    "        data = pd.read_csv(uploaded_file)\n",
    "        st.write(\"Uploaded Data Preview:\")\n",
    "        st.dataframe(data.head())\n",
    "\n",
    "        # Prepare data\n",
    "        categorical_cols = ['BusinessTravel', 'Department', 'EducationField', 'Gender', 'JobRole', 'MaritalStatus', 'OverTime']\n",
    "        data_encoded = pd.get_dummies(data, columns=categorical_cols, drop_first=True)\n",
    "\n",
    "        if hasattr(model.named_steps['scaler'], 'feature_names_in_'):\n",
    "            expected_cols = model.named_steps['scaler'].feature_names_in_\n",
    "        else:\n",
    "            expected_cols = model.feature_names_in_\n",
    "\n",
    "        # Validate uploaded features\n",
    "        missing_cols = set(expected_cols) - set(data_encoded.columns)\n",
    "        if missing_cols:\n",
    "            st.error(f\"Uploaded data is missing expected columns: {missing_cols}\")\n",
    "            st.stop()\n",
    "\n",
    "        # Add missing columns as zero\n",
    "        for col in expected_cols:\n",
    "            if col not in data_encoded.columns:\n",
    "                data_encoded[col] = 0\n",
    "\n",
    "        data_encoded = data_encoded[expected_cols]\n",
    "\n",
    "        # Predict\n",
    "        pred_probs = model.predict_proba(data_encoded)[:, 1]\n",
    "        predictions = model.predict(data_encoded)\n",
    "        predictions = [convert_label(p) for p in predictions]\n",
    "\n",
    "        # Add predictions to data\n",
    "        data['Attrition_Predicted'] = predictions\n",
    "        data['Attrition_Probability'] = pred_probs\n",
    "\n",
    "        st.write(\"Predictions with Probability:\")\n",
    "        st.dataframe(data[['Attrition_Predicted', 'Attrition_Probability']])\n",
    "\n",
    "        # Show histogram of probabilities\n",
    "        st.write(\"Attrition Probability Distribution:\")\n",
    "        fig, ax = plt.subplots()\n",
    "        ax.hist(pred_probs, bins=20, color='skyblue')\n",
    "        st.pyplot(fig)\n",
    "\n",
    "        # Filter by probability threshold\n",
    "        threshold = st.slider(\"Filter employees by attrition probability threshold\", 0.0, 1.0, 0.5)\n",
    "        filtered_data = data[data['Attrition_Probability'] >= threshold]\n",
    "\n",
    "        st.write(f\"Employees with Attrition Probability ≥ {threshold}:\")\n",
    "        st.dataframe(filtered_data)\n",
    "\n",
    "        # Download filtered data CSV\n",
    "        csv = filtered_data.to_csv(index=False).encode('utf-8')\n",
    "        st.download_button(\n",
    "            label=\"Download Filtered Data as CSV\",\n",
    "            data=csv,\n",
    "            file_name='filtered_employees.csv',\n",
    "            mime='text/csv',\n",
    "        )\n",
    "\n",
    "    else:\n",
    "        st.info(\"Please upload a CSV file to get predictions.\")\n",
    "\n",
    "# Footer\n",
    "st.markdown(\"---\")\n",
    "st.markdown(f\"Developed by {AUTHOR} | Powered by Streamlit and scikit-learn\")\n"
   ]
  },
  {
   "cell_type": "code",
   "execution_count": null,
   "id": "970d06c3-c8bf-4e84-9caa-d061686d46f6",
   "metadata": {},
   "outputs": [],
   "source": []
  }
 ],
 "metadata": {
  "kernelspec": {
   "display_name": "Python 3 (ipykernel)",
   "language": "python",
   "name": "python3"
  },
  "language_info": {
   "codemirror_mode": {
    "name": "ipython",
    "version": 3
   },
   "file_extension": ".py",
   "mimetype": "text/x-python",
   "name": "python",
   "nbconvert_exporter": "python",
   "pygments_lexer": "ipython3",
   "version": "3.12.7"
  }
 },
 "nbformat": 4,
 "nbformat_minor": 5
}
